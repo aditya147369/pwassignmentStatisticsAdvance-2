{
 "cells": [
  {
   "cell_type": "markdown",
   "id": "64b78881-c7fb-412f-9857-26b5854a091e",
   "metadata": {},
   "source": [
    "Q1: What are the Probability Mass Function (PMF) and Probability Density Function (PDF)? Explain with\n",
    "an example."
   ]
  },
  {
   "cell_type": "markdown",
   "id": "00a6e3d2-b2ea-4260-844f-6f2a68086d9f",
   "metadata": {},
   "source": [
    "Ans - Probability Mass Function (PMF)\n",
    "\n",
    "1] Applies to: Discrete random variables, which take on a countable set of distinct values (e.g., the number of heads in a coin toss, the roll of a die).\n",
    "\n",
    "2] Definition: The PMF of a discrete random variable X, denoted as P(X = x), gives the probability that X takes on the specific value x.\n",
    "\n",
    "3] Example: Consider rolling a fair six-sided die. The PMF would assign a probability of 1/6 to each of the possible outcomes (1, 2, 3, 4, 5, or 6).\n",
    "\n",
    "Probability Density Function (PDF)\n",
    "\n",
    "1] Applies to: Continuous random variables, which can take on any value within a certain range (e.g., height, weight, temperature).\n",
    "\n",
    "2] Definition: The PDF of a continuous random variable X, denoted as f(x), describes the relative likelihood of X taking on a value within a small interval around x. It does not directly give the probability of X being exactly equal to x (which is technically zero for continuous variables).\n",
    "\n",
    "3] Example: Consider the height of adult humans. The PDF might be a bell-shaped curve (normal distribution), where the height of an individual is more likely to be near the average height and less likely to be very short or very tall. The area under the curve between two height values represents the probability of a person's height falling within that range."
   ]
  },
  {
   "cell_type": "markdown",
   "id": "6fdba773-ad39-4465-83f1-992c0c5b4708",
   "metadata": {},
   "source": [
    "Q2: What is Cumulative Density Function (CDF)? Explain with an example. Why CDF is used?"
   ]
  },
  {
   "cell_type": "markdown",
   "id": "f3405c65-e66b-4df4-bac7-cb2f6d7d92b1",
   "metadata": {},
   "source": [
    "Ans - The Cumulative Distribution Function (CDF), often denoted as F(x), describes the probability that a random variable X takes on a value less than or equal to a specific value x. In simpler terms, it represents the accumulated probability up to a certain point in the distribution.   \n",
    "\n",
    "Example:\n",
    "\n",
    "Consider the roll of a fair six-sided die. The CDF for this scenario would be:\n",
    "\n",
    "F(1) = 1/6 (Probability of getting a 1 or less)\n",
    "F(2) = 2/6 (Probability of getting a 2 or less)   \n",
    "F(3) = 3/6\n",
    "F(4) = 4/6\n",
    "F(5) = 5/6\n",
    "F(6) = 1 (Probability of getting a 6 or less, which encompasses all possible outcomes)\n",
    "\n",
    "Use -\n",
    "\n",
    "Calculating Probabilities within Ranges: CDFs are helpful in calculating the probability that a random variable falls within a specific range. For instance, the probability of rolling a number between 3 and 5 (inclusive) on the die can be found by calculating F(5) - F(2).\n",
    "\n",
    "Comparing Distributions: CDFs provide a visual representation of the entire probability distribution, making it easier to compare different distributions.\n",
    "\n",
    "Generating Random Samples: In simulations or statistical modeling, CDFs are used to generate random samples that follow a specific probability distribution.\n",
    "\n",
    "Statistical Analysis: CDFs are often used in hypothesis testing and statistical inference to make decisions based on observed data."
   ]
  },
  {
   "cell_type": "markdown",
   "id": "1b2aca6f-7ef7-491e-9dcd-c961034b50c1",
   "metadata": {},
   "source": [
    "Q3: What are some examples of situations where the normal distribution might be used as a model?\n",
    "Explain how the parameters of the normal distribution relate to the shape of the distribution."
   ]
  },
  {
   "cell_type": "markdown",
   "id": "c13d9ef0-8bdc-4fdc-8b98-1d5e4e48f4c6",
   "metadata": {},
   "source": [
    "Ans - 1] Heights and weights of individuals: In a large population, the distribution of heights and weights often follows a normal distribution, with most individuals clustered around the average and fewer individuals at the extremes.\n",
    "\n",
    "2] Test scores: Standardized test scores, such as IQ tests or SAT scores, are typically designed to follow a normal distribution.   \n",
    "\n",
    "3] Measurement errors: Errors in scientific measurements often exhibit a normal distribution, with small errors being more common than large errors.\n",
    "\n",
    "4] Natural phenomena: Many natural phenomena, like the distribution of rainfall or the size of grains in a sample, can be approximated by a normal distribution.   \n",
    "\n",
    "Relationship between parameters and shape:\n",
    "\n",
    "1] Mean (μ): The mean represents the center or average of the distribution. It determines the location of the peak of the bell curve. Shifting the mean to the right or left moves the entire curve along the horizontal axis.   \n",
    "\n",
    "2] Standard Deviation (σ): The standard deviation measures the spread or variability of the distribution. A larger standard deviation results in a wider, flatter curve, indicating more data points are further away from the mean. A smaller standard deviation results in a narrower, taller curve, indicating data points are clustered closer to the mean.   "
   ]
  },
  {
   "cell_type": "markdown",
   "id": "040d51ab-5586-42e2-9d03-f3bf0155f861",
   "metadata": {},
   "source": [
    "Q4: Explain the importance of Normal Distribution. Give a few real-life examples of Normal\n",
    "Distribution."
   ]
  },
  {
   "cell_type": "raw",
   "id": "b3b3d598-6a8a-4b58-af59-39d8e6e97677",
   "metadata": {},
   "source": [
    "Ans - One reason the normal distribution is important is that many psychological and educational variables are distributed approximately normally. Measures of reading ability, introversion, job satisfaction, and memory are among the many psychological variables approximately normally distributed.\n",
    "\n",
    "Ex-\n",
    "\n",
    "1] Height\n",
    "2] Rolling A Dice\n",
    "3] Tossing A Coin\n",
    "4] IQ\n",
    "5] Technical Stock Market\n",
    "6] Blood Pressure\n",
    "7] Shoe Size"
   ]
  },
  {
   "cell_type": "markdown",
   "id": "5e7aceb0-42b4-4389-ba1a-a3a0e61d2c38",
   "metadata": {},
   "source": [
    "Q5: What is Bernaulli Distribution? Give an Example. What is the difference between Bernoulli\n",
    "Distribution and Binomial Distribution?"
   ]
  },
  {
   "cell_type": "markdown",
   "id": "af0a78dc-04f0-4875-89d4-cb612d31bb02",
   "metadata": {},
   "source": [
    "Ans - Bernoulli distribution is a discrete probability distribution, meaning it’s concerned with discrete random variables. A discrete random variable is one that has a finite or countable number of possible values—the number of heads you get when tossing three coins at once, or the number of students in a class.\n",
    "\n",
    "example, The coin toss example is perhaps the easiest way to explain Bernoulli distribution. Let’s say that the outcome of “heads” is a “success,” while an outcome of “tails” is a “failure.” In this instance:\n",
    "\n",
    "The probability of a successful outcome (landing on heads) is written as p The probability of a failure (landing on tails), written as q, is calculated as 1 – p With a standard coin, we know that there’s a 50/50 chance of landing on either heads or tails. So, in this case:\n",
    "\n",
    "p = 0.5 q = 1– **0.5 So, in our coin toss example, both p and q = 0.5. On a graph, you’d represent the probability of a failure as “0” and the probability of success as “1,” both on the y-axis.\n",
    "\n",
    "Bernoulli deals with the outcome of the single trial of the event, whereas Binomial deals with the outcome of the multiple trials of the single event. Bernoulli is used when the outcome of an event is required for only one time, whereas the Binomial is used when the outcome of an event is required multiple times.Bernoulli distribution is a discrete probability distribution, meaning it’s concerned with discrete random variables. A discrete random variable is one that has a finite or countable number of possible values—the number of heads you get when tossing three coins at once, or the number of students in a class.\n",
    "\n",
    "example, The coin toss example is perhaps the easiest way to explain Bernoulli distribution. Let’s say that the outcome of “heads” is a “success,” while an outcome of “tails” is a “failure.” In this instance:\n",
    "\n",
    "The probability of a successful outcome (landing on heads) is written as p The probability of a failure (landing on tails), written as q, is calculated as 1 – p With a standard coin, we know that there’s a 50/50 chance of landing on either heads or tails. So, in this case:\n",
    "\n",
    "p = 0.5 q = 1– **0.5 So, in our coin toss example, both p and q = 0.5. On a graph, you’d represent the probability of a failure as “0” and the probability of success as “1,” both on the y-axis."
   ]
  },
  {
   "cell_type": "markdown",
   "id": "980ec3b5-971b-476d-a063-41a5acf6d3e1",
   "metadata": {},
   "source": [
    "Q6. Consider a dataset with a mean of 50 and a standard deviation of 10. If we assume that the dataset\n",
    "is normally distributed, what is the probability that a randomly selected observation will be greater\n",
    "than 60? Use the appropriate formula and show your calculations."
   ]
  },
  {
   "cell_type": "markdown",
   "id": "937533f7-c5e3-4795-ba96-0fd41fbdb4ec",
   "metadata": {},
   "source": [
    "Ans - To calculate the probability that a randomly selected observation from a normally distributed dataset with a mean of 50 and a standard deviation of 10 will be greater than 60, we can use the Z-score and the cumulative distribution function (CDF) of the standard normal distribution.\n",
    "\n",
    "The Z-score measures the number of standard deviations an observation is from the mean. It can be calculated using the formula: Z = (X - μ) / σ, where X is the observed value, μ is the mean, and σ is the standard deviation.\n",
    "\n",
    "In this case, we want to find the probability that a randomly selected observation will be greater than 60. Let's calculate the Z-score for 60:\n",
    "\n",
    "Z = (60 - 50) / 10 = 1\n",
    "\n",
    "Now, we can use the CDF of the standard normal distribution to find the probability corresponding to this Z-score. In Python, we can use the scipy.stats.norm module to calculate the CDF."
   ]
  },
  {
   "cell_type": "code",
   "execution_count": 2,
   "id": "cee67649-13d2-49fe-99db-2b1a7ed6dc2c",
   "metadata": {},
   "outputs": [
    {
     "name": "stdout",
     "output_type": "stream",
     "text": [
      "Probability: 0.15865525393145707\n"
     ]
    }
   ],
   "source": [
    "from scipy.stats import norm\n",
    "\n",
    "mean = 50\n",
    "std_dev = 10\n",
    "observed_value = 60\n",
    "\n",
    "# Calculate the Z-score\n",
    "Z = (observed_value - mean) / std_dev\n",
    "\n",
    "# Calculate the probability using the CDF\n",
    "probability = 1 - norm.cdf(Z)\n",
    "\n",
    "print(\"Probability:\", probability)"
   ]
  },
  {
   "cell_type": "markdown",
   "id": "0ef6c82e-b934-4e65-b1d5-7bea9c53c81a",
   "metadata": {},
   "source": [
    "Q7: Explain uniform Distribution with an example."
   ]
  },
  {
   "cell_type": "markdown",
   "id": "0346a7de-0558-40f1-8440-934c02af3516",
   "metadata": {},
   "source": [
    "Ans - A uniform distribution, also known as a rectangular distribution, is a probability distribution where all outcomes within a given range are equally likely to occur. In other words, it has a constant probability density function within that range.\n",
    "\n",
    "Example:\n",
    "\n",
    "Consider rolling a fair six-sided die. The possible outcomes are the numbers 1 through 6. In a uniform distribution, each of these outcomes has an equal probability of 1/6 of occurring. This means you're just as likely to roll a 1 as you are to roll a 6."
   ]
  },
  {
   "cell_type": "markdown",
   "id": "824fd6d9-ef09-4c1e-ae53-792661b82bf4",
   "metadata": {},
   "source": [
    "Q8: What is the z score? State the importance of the z score."
   ]
  },
  {
   "cell_type": "markdown",
   "id": "1bfd1f4f-ae2a-422b-bbd7-e7bcb081d8bc",
   "metadata": {},
   "source": [
    "Ans - A z-score, also known as a standard score, is a statistical measure that quantifies how many standard deviations a data point is away from the mean of its distribution. It's calculated using the formula:   \n",
    "\n",
    "z = (x - μ) / σ\n",
    "\n",
    "Importance of the Z-score:\n",
    "\n",
    "1] Standardization: Z-scores transform data points from different distributions onto a standard normal distribution with a mean of 0 and a standard deviation of 1. This allows for easy comparison of values from different datasets or distributions.\n",
    "\n",
    "2] Outlier Detection: Z-scores can help identify outliers, which are data points that deviate significantly from the mean. A common rule of thumb is that data points with z-scores greater than 3 or less than -3 are considered potential outliers.\n",
    "\n",
    "3] Probability Calculation: Using z-scores and the standard normal distribution table (or statistical software), we can easily calculate the probability of a data point falling within a certain range or the probability of observing a value more extreme than a given data point."
   ]
  },
  {
   "cell_type": "markdown",
   "id": "c2d9a352-cce9-4f26-9031-548f2d5c3773",
   "metadata": {},
   "source": [
    "Q9: What is Central Limit Theorem? State the significance of the Central Limit Theorem."
   ]
  },
  {
   "cell_type": "markdown",
   "id": "342f292b-e013-4e3c-b612-7723e8fcd4a0",
   "metadata": {},
   "source": [
    "Ans - The central limit theorem says that the sampling distribution of the mean will always be normally distributed, as long as the sample size is large enough. Regardless of whether the population has a normal, Poisson, binomial, or any other distribution, the sampling distribution of the mean will be normal.\n",
    "\n",
    "The CLT performs a significant part in statistical inference. It depicts precisely how much an increase in sample size diminishes sampling error, which tells us about the precision or margin of error for estimates of statistics, for example, percentages, from samples."
   ]
  },
  {
   "cell_type": "markdown",
   "id": "1501e1a0-b145-43d5-b3d5-06d3cbafbf21",
   "metadata": {},
   "source": [
    "Q10: State the assumptions of the Central Limit Theorem."
   ]
  },
  {
   "cell_type": "markdown",
   "id": "8178f51f-d6ed-4d3d-8b9c-875117b8a7b1",
   "metadata": {},
   "source": [
    "Ans - The Central Limit Theorem (CLT) relies on certain assumptions to hold true. The assumptions of the Central Limit Theorem are as follows:\n",
    "\n",
    "Independence: The random variables in the sample should be independent of each other. Each observation should be unrelated to the others.\n",
    "\n",
    "Sample Size: The sample should be sufficiently large. While there is no fixed minimum sample size, a commonly suggested guideline is to have at least 30 observations. However, for certain distributions with heavier tails, a larger sample size may be necessary for the CLT to apply.\n",
    "\n",
    "Finite Variance: The population from which the sample is drawn should have a finite variance. This assumption ensures that the sample mean and sample variance are well-defined and not infinite.\n",
    "\n",
    "Identically Distributed: The observations in the sample should be drawn from the same underlying distribution. This assumption ensures that the sample mean converges to the same population mean and that the sample variance is not affected by different underlying distributions."
   ]
  },
  {
   "cell_type": "code",
   "execution_count": null,
   "id": "5ae318a8-b0c1-4c33-a079-adf4a02fa9f5",
   "metadata": {},
   "outputs": [],
   "source": []
  },
  {
   "cell_type": "code",
   "execution_count": null,
   "id": "29a95514-3774-4559-81ff-4af960bab230",
   "metadata": {},
   "outputs": [],
   "source": []
  }
 ],
 "metadata": {
  "kernelspec": {
   "display_name": "Python 3 (ipykernel)",
   "language": "python",
   "name": "python3"
  },
  "language_info": {
   "codemirror_mode": {
    "name": "ipython",
    "version": 3
   },
   "file_extension": ".py",
   "mimetype": "text/x-python",
   "name": "python",
   "nbconvert_exporter": "python",
   "pygments_lexer": "ipython3",
   "version": "3.10.8"
  }
 },
 "nbformat": 4,
 "nbformat_minor": 5
}
